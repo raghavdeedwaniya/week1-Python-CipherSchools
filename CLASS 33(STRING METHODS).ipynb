{
 "cells": [
  {
   "cell_type": "code",
   "execution_count": null,
   "id": "c7a6cc98",
   "metadata": {},
   "outputs": [],
   "source": [
    "#LECTURE 33 STRING METHODS PART 1"
   ]
  },
  {
   "cell_type": "code",
   "execution_count": 2,
   "id": "97e87688",
   "metadata": {},
   "outputs": [
    {
     "name": "stdout",
     "output_type": "stream",
     "text": [
      "17\n"
     ]
    }
   ],
   "source": [
    "name=\"raghav deedwaniya\"\n",
    "print(len(name))"
   ]
  },
  {
   "cell_type": "code",
   "execution_count": 3,
   "id": "dbe35f73",
   "metadata": {},
   "outputs": [
    {
     "name": "stdout",
     "output_type": "stream",
     "text": [
      "raghav deedwaniya\n",
      "RAGHAV DEEDWANIYA\n",
      "Raghav Deedwaniya\n",
      "4\n"
     ]
    }
   ],
   "source": [
    "name=\"raghav deedwaniya\"\n",
    "print(name.lower())\n",
    "print(name.upper())\n",
    "print(name.title())\n",
    "print(name.count(\"a\"))"
   ]
  },
  {
   "cell_type": "code",
   "execution_count": null,
   "id": "09138a87",
   "metadata": {},
   "outputs": [],
   "source": []
  },
  {
   "cell_type": "code",
   "execution_count": null,
   "id": "68e8856f",
   "metadata": {},
   "outputs": [],
   "source": []
  },
  {
   "cell_type": "code",
   "execution_count": null,
   "id": "55d10b01",
   "metadata": {},
   "outputs": [],
   "source": []
  },
  {
   "cell_type": "code",
   "execution_count": null,
   "id": "cb8a2df5",
   "metadata": {},
   "outputs": [],
   "source": []
  },
  {
   "cell_type": "code",
   "execution_count": null,
   "id": "99a98ef0",
   "metadata": {},
   "outputs": [],
   "source": []
  }
 ],
 "metadata": {
  "kernelspec": {
   "display_name": "Python 3.9.12 ('base')",
   "language": "python",
   "name": "python3"
  },
  "language_info": {
   "codemirror_mode": {
    "name": "ipython",
    "version": 3
   },
   "file_extension": ".py",
   "mimetype": "text/x-python",
   "name": "python",
   "nbconvert_exporter": "python",
   "pygments_lexer": "ipython3",
   "version": "3.9.12"
  },
  "vscode": {
   "interpreter": {
    "hash": "a0d540e4747513a65e87964975f7c81fb7d18508ffc1a8c72ca7d81f5952c4de"
   }
  }
 },
 "nbformat": 4,
 "nbformat_minor": 5
}
